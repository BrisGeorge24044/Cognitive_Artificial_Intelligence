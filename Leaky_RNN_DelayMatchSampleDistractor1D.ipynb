{
  "nbformat": 4,
  "nbformat_minor": 0,
  "metadata": {
    "colab": {
      "provenance": [],
      "authorship_tag": "ABX9TyNwo/km/4FIV8FiBv7axPW8",
      "include_colab_link": true
    },
    "kernelspec": {
      "name": "python3",
      "display_name": "Python 3"
    },
    "language_info": {
      "name": "python"
    }
  },
  "cells": [
    {
      "cell_type": "markdown",
      "metadata": {
        "id": "view-in-github",
        "colab_type": "text"
      },
      "source": [
        "<a href=\"https://colab.research.google.com/github/BrisGeorge24044/Cognitive_Artificial_Intelligence/blob/main/Leaky_RNN_DelayMatchSampleDistractor1D.ipynb\" target=\"_parent\"><img src=\"https://colab.research.google.com/assets/colab-badge.svg\" alt=\"Open In Colab\"/></a>"
      ]
    },
    {
      "cell_type": "code",
      "execution_count": 1,
      "metadata": {
        "colab": {
          "base_uri": "https://localhost:8080/"
        },
        "id": "iqabsZGy3b-w",
        "outputId": "42405485-8d5d-4cbd-be24-f0fb12d78ba5"
      },
      "outputs": [
        {
          "output_type": "stream",
          "name": "stdout",
          "text": [
            "Requirement already satisfied: neurogym in /usr/local/lib/python3.10/dist-packages (0.0.2)\n",
            "Requirement already satisfied: numpy in /usr/local/lib/python3.10/dist-packages (from neurogym) (1.26.4)\n",
            "Collecting gym<0.25,>=0.20.0 (from neurogym)\n",
            "  Using cached gym-0.24.1-py3-none-any.whl\n",
            "Requirement already satisfied: matplotlib in /usr/local/lib/python3.10/dist-packages (from neurogym) (3.8.0)\n",
            "Requirement already satisfied: cloudpickle>=1.2.0 in /usr/local/lib/python3.10/dist-packages (from gym<0.25,>=0.20.0->neurogym) (3.1.0)\n",
            "Requirement already satisfied: gym_notices>=0.0.4 in /usr/local/lib/python3.10/dist-packages (from gym<0.25,>=0.20.0->neurogym) (0.0.8)\n",
            "Requirement already satisfied: contourpy>=1.0.1 in /usr/local/lib/python3.10/dist-packages (from matplotlib->neurogym) (1.3.1)\n",
            "Requirement already satisfied: cycler>=0.10 in /usr/local/lib/python3.10/dist-packages (from matplotlib->neurogym) (0.12.1)\n",
            "Requirement already satisfied: fonttools>=4.22.0 in /usr/local/lib/python3.10/dist-packages (from matplotlib->neurogym) (4.55.0)\n",
            "Requirement already satisfied: kiwisolver>=1.0.1 in /usr/local/lib/python3.10/dist-packages (from matplotlib->neurogym) (1.4.7)\n",
            "Requirement already satisfied: packaging>=20.0 in /usr/local/lib/python3.10/dist-packages (from matplotlib->neurogym) (24.2)\n",
            "Requirement already satisfied: pillow>=6.2.0 in /usr/local/lib/python3.10/dist-packages (from matplotlib->neurogym) (11.0.0)\n",
            "Requirement already satisfied: pyparsing>=2.3.1 in /usr/local/lib/python3.10/dist-packages (from matplotlib->neurogym) (3.2.0)\n",
            "Requirement already satisfied: python-dateutil>=2.7 in /usr/local/lib/python3.10/dist-packages (from matplotlib->neurogym) (2.8.2)\n",
            "Requirement already satisfied: six>=1.5 in /usr/local/lib/python3.10/dist-packages (from python-dateutil>=2.7->matplotlib->neurogym) (1.16.0)\n",
            "Installing collected packages: gym\n",
            "  Attempting uninstall: gym\n",
            "    Found existing installation: gym 0.25.1\n",
            "    Uninstalling gym-0.25.1:\n",
            "      Successfully uninstalled gym-0.25.1\n",
            "Successfully installed gym-0.24.1\n",
            "Collecting gym==0.25.1\n",
            "  Using cached gym-0.25.1-py3-none-any.whl\n",
            "Requirement already satisfied: numpy>=1.18.0 in /usr/local/lib/python3.10/dist-packages (from gym==0.25.1) (1.26.4)\n",
            "Requirement already satisfied: cloudpickle>=1.2.0 in /usr/local/lib/python3.10/dist-packages (from gym==0.25.1) (3.1.0)\n",
            "Requirement already satisfied: gym_notices>=0.0.4 in /usr/local/lib/python3.10/dist-packages (from gym==0.25.1) (0.0.8)\n",
            "Installing collected packages: gym\n",
            "  Attempting uninstall: gym\n",
            "    Found existing installation: gym 0.24.1\n",
            "    Uninstalling gym-0.24.1:\n",
            "      Successfully uninstalled gym-0.24.1\n",
            "\u001b[31mERROR: pip's dependency resolver does not currently take into account all the packages that are installed. This behaviour is the source of the following dependency conflicts.\n",
            "neurogym 0.0.2 requires gym<0.25,>=0.20.0, but you have gym 0.25.1 which is incompatible.\u001b[0m\u001b[31m\n",
            "\u001b[0mSuccessfully installed gym-0.25.1\n"
          ]
        }
      ],
      "source": [
        "!pip install neurogym\n",
        "!pip install gym==0.25.1"
      ]
    },
    {
      "cell_type": "code",
      "source": [
        "import numpy as np\n",
        "import matplotlib.pyplot as plt\n",
        "import torch\n",
        "import torch.nn as nn\n",
        "import torch.optim as optim\n",
        "import time"
      ],
      "metadata": {
        "id": "8qeV_MjA4JN1"
      },
      "execution_count": 2,
      "outputs": []
    },
    {
      "cell_type": "markdown",
      "source": [
        "LeakyRNN Class defines the Leaky RNN and sets parameters."
      ],
      "metadata": {
        "id": "Op-uUpsg4WP4"
      }
    },
    {
      "cell_type": "code",
      "source": [
        "class LeakyRNN(nn.Module):\n",
        "  def __init__(self, input_size, hidden_size, dt = None):\n",
        "    super().__init__()\n",
        "    self.input_size = input_size\n",
        "    self.hidden_size = hidden_size\n",
        "    self.tau = 100\n",
        "    # Sets alpha as a function of the time step, dt, and the time constant, tau\n",
        "    if dt is None:\n",
        "      alpha = 1\n",
        "    else:\n",
        "      alpha = dt/self.tau\n",
        "    self.alpha = alpha\n",
        "    # Defines linear layers for the input to hidden and hidden to hidden\n",
        "    # connections\n",
        "    self.input2hidden = nn.Linear(input_size, hidden_size)\n",
        "    self.hidden2hidden = nn.Linear(hidden_size, hidden_size)\n",
        "  # init_hidden function initialises the hidden state as a matrix of zeros\n",
        "  def init_hidden(self, input_shape):\n",
        "    batch_size = input_shape[1]\n",
        "    return torch.zeros(batch_size, self.hidden_size)\n",
        "\n",
        "  # Recurrence function updates the hidden state\n",
        "  def recurrence(self, input, hidden):\n",
        "    # ReLU non-linear activation function is used to calculate the new hidden\n",
        "    # state using the input and recurrent weight matrices\n",
        "    h_new = torch.relu(self.input2hidden(input) + self.hidden2hidden(hidden))\n",
        "    # Leaky integration is applied with alpha deciding how much of the last\n",
        "    # state is retained\n",
        "    h_new = hidden * (1 - self.alpha) + h_new * self.alpha\n",
        "    return h_new\n",
        "\n",
        "  # Forward function - process the sequence for every time step\n",
        "  def forward(self, input, hidden = None):\n",
        "    # If there is no hidden state, then it is initialised here\n",
        "    if hidden is None:\n",
        "      hidden = self.init_hidden(input.shape).to(input.device)\n",
        "\n",
        "      output = []\n",
        "      # Creates a loop for every time step\n",
        "      steps = range(input.size(0))\n",
        "      for i in steps:\n",
        "        # Updates the hidden state using the recurrence function\n",
        "        hidden = self.recurrence(input[i], hidden)\n",
        "        output.append(hidden)\n",
        "\n",
        "      # Stacks all outputs in one dimension\n",
        "      output = torch.stack(output, dim = 0)\n",
        "      return output, hidden"
      ],
      "metadata": {
        "id": "35yctnT44RCH"
      },
      "execution_count": 3,
      "outputs": []
    },
    {
      "cell_type": "markdown",
      "source": [
        "RNNNet Class creates a fully connected layer which converts the hidden states into final predictions."
      ],
      "metadata": {
        "id": "nEWpRCzKAUUl"
      }
    },
    {
      "cell_type": "code",
      "source": [
        "class RNNNet(nn.Module):\n",
        "  def __init__(self, input_size, hidden_size, output_size, **kwargs):\n",
        "    super().__init__()\n",
        "    # The LeakyRNN class is instantiated\n",
        "    self.rnn = LeakyRNN(input_size, hidden_size, **kwargs)\n",
        "    # A fully connected layer is created and applied as the last step of the\n",
        "    # program to obtain predictions\n",
        "    self.fc = nn.Linear(hidden_size, output_size)\n",
        "\n",
        "  # Forward function processes the input through the Leaky RNN and the FC layer\n",
        "  def forward(self, x):\n",
        "    rnn_output, _ = self.rnn(x)\n",
        "    # FC layer is applied to obtain the predictions for every time step\n",
        "    out = self.fc(rnn_output)\n",
        "    return out, rnn_output"
      ],
      "metadata": {
        "id": "IxfxnF79ALE2"
      },
      "execution_count": 4,
      "outputs": []
    },
    {
      "cell_type": "code",
      "source": [
        "import neurogym as ngym\n",
        "\n",
        "# ContextDecisionMaking-v0 task is selected from neurogym\n",
        "task_name = 'DelayMatchSampleDistractor1D-v0'\n",
        "# Time step and stimulus length are defined\n",
        "kwargs = {'dt': 20, 'timing': {'stimulus': 1500}}"
      ],
      "metadata": {
        "colab": {
          "base_uri": "https://localhost:8080/"
        },
        "id": "RT3KrN0pCM-e",
        "outputId": "5f460669-3eb5-43b3-e969-3e5cb4c210ea"
      },
      "execution_count": 5,
      "outputs": [
        {
          "output_type": "stream",
          "name": "stderr",
          "text": [
            "/usr/local/lib/python3.10/dist-packages/gym/envs/registration.py:421: UserWarning: \u001b[33mWARN: The `registry.all` method is deprecated. Please use `registry.values` instead.\u001b[0m\n",
            "  logger.warn(\n"
          ]
        }
      ]
    },
    {
      "cell_type": "code",
      "source": [
        "# The sequence length (Num of time steps for each input) and batch size are defined\n",
        "seq_len = 150\n",
        "batch_size = 24\n",
        "\n",
        "# Dataset is created with ngym.Dataset\n",
        "dataset = ngym.Dataset(task_name, env_kwargs=kwargs, batch_size=batch_size, seq_len=seq_len)\n",
        "env = dataset.env\n",
        "\n",
        "# Inputs and targets are taken from the dataset\n",
        "inputs, target = dataset()\n",
        "inputs = torch.from_numpy(inputs).type(torch.float)\n",
        "\n",
        "# Input and output size are defined by the neurogym environment\n",
        "input_size = env.observation_space.shape[0]\n",
        "output_size = env.action_space.n\n",
        "\n",
        "print(inputs.shape)\n",
        "print(target.shape)"
      ],
      "metadata": {
        "id": "8fXtSiylFc51",
        "colab": {
          "base_uri": "https://localhost:8080/"
        },
        "outputId": "cbe3bba6-80fa-4479-a69f-59bde61564bb"
      },
      "execution_count": 6,
      "outputs": [
        {
          "output_type": "stream",
          "name": "stdout",
          "text": [
            "torch.Size([150, 24, 33])\n",
            "(150, 24)\n"
          ]
        },
        {
          "output_type": "stream",
          "name": "stderr",
          "text": [
            "/usr/local/lib/python3.10/dist-packages/gym/core.py:329: DeprecationWarning: \u001b[33mWARN: Initializing wrapper in old step API which returns one bool instead of two. It is recommended to set `new_step_api=True` to use new step API. This will be the default behaviour in future.\u001b[0m\n",
            "  deprecation(\n",
            "/usr/local/lib/python3.10/dist-packages/gym/wrappers/step_api_compatibility.py:39: DeprecationWarning: \u001b[33mWARN: Initializing environment in old step API which returns one bool instead of two. It is recommended to set `new_step_api=True` to use new step API. This will be the default behaviour in future.\u001b[0m\n",
            "  deprecation(\n"
          ]
        }
      ]
    },
    {
      "cell_type": "code",
      "source": [
        "# Defines hidden size\n",
        "hidden_size = 192\n",
        "\n",
        "# RNNNet is instantiated\n",
        "net = RNNNet(input_size=input_size, hidden_size=hidden_size, output_size=output_size, dt=env.dt)\n",
        "print(net)\n",
        "\n",
        "# Function trains the model\n",
        "def train_model(net, dataset):\n",
        "    # Uses Adam optimiser\n",
        "    optimizer = optim.Adam(net.parameters(), lr = 0.01)\n",
        "    # Defines the loss function for the task\n",
        "    criterion = nn.CrossEntropyLoss()\n",
        "\n",
        "    # Tracks the loss and time\n",
        "    running_loss = 0\n",
        "    start_time = time.time()\n",
        "\n",
        "    # Sets a loop of 2000 training iterations\n",
        "    for i in range(2000):\n",
        "        inputs, labels = dataset()\n",
        "        inputs = torch.from_numpy(inputs).type(torch.float)\n",
        "        labels = torch.from_numpy(labels.flatten()).type(torch.long)\n",
        "\n",
        "        # Gradients are reset to zero for each iteration\n",
        "        optimizer.zero_grad()\n",
        "        # Creates a forward pass\n",
        "        output, _ = net(inputs)\n",
        "        # Tensor is flattened to 2D\n",
        "        output = output.view(-1, output_size)\n",
        "        # Loss is calcualated using the loss function\n",
        "        loss = criterion(output, labels)\n",
        "        # Backward pass is done to calculate the gradients\n",
        "        loss.backward()\n",
        "        # The parameters are all updated\n",
        "        optimizer.step()\n",
        "\n",
        "        # This tracks the loss from the loss at each iteration\n",
        "        running_loss += loss.item()\n",
        "        # If statement to calculate and print an average loss every 100\n",
        "        # iterations\n",
        "        if i % 100 == 99:\n",
        "            running_loss /= 100\n",
        "            print('Step {}, Loss {:0.4f}, Time {:0.1f}s'.format(\n",
        "                i+1, running_loss, time.time() - start_time))\n",
        "            running_loss = 0\n",
        "    return net\n",
        "\n",
        "# Calls the train_model function to train the model\n",
        "net = train_model(net, dataset)"
      ],
      "metadata": {
        "colab": {
          "base_uri": "https://localhost:8080/"
        },
        "id": "WVrWzPHtFwLj",
        "outputId": "9e6bfd6b-6159-4195-89ec-b705b95031bd"
      },
      "execution_count": 7,
      "outputs": [
        {
          "output_type": "stream",
          "name": "stdout",
          "text": [
            "RNNNet(\n",
            "  (rnn): LeakyRNN(\n",
            "    (input2hidden): Linear(in_features=33, out_features=192, bias=True)\n",
            "    (hidden2hidden): Linear(in_features=192, out_features=192, bias=True)\n",
            "  )\n",
            "  (fc): Linear(in_features=192, out_features=2, bias=True)\n",
            ")\n",
            "Step 100, Loss 44.3613, Time 9.1s\n",
            "Step 200, Loss 0.1261, Time 18.3s\n",
            "Step 300, Loss 0.1192, Time 26.6s\n",
            "Step 400, Loss 7.6892, Time 35.6s\n",
            "Step 500, Loss 0.1990, Time 45.0s\n",
            "Step 600, Loss 0.1099, Time 55.4s\n",
            "Step 700, Loss 0.0926, Time 63.7s\n",
            "Step 800, Loss 0.1260, Time 73.1s\n",
            "Step 900, Loss 0.1199, Time 82.4s\n",
            "Step 1000, Loss 0.1136, Time 90.9s\n",
            "Step 1100, Loss 0.1136, Time 100.2s\n",
            "Step 1200, Loss 0.1104, Time 109.5s\n",
            "Step 1300, Loss 0.1039, Time 117.9s\n",
            "Step 1400, Loss 0.1049, Time 127.1s\n",
            "Step 1500, Loss 0.1026, Time 136.9s\n",
            "Step 1600, Loss 0.0974, Time 146.0s\n",
            "Step 1700, Loss 0.1070, Time 154.5s\n",
            "Step 1800, Loss 0.0870, Time 163.8s\n",
            "Step 1900, Loss 0.0767, Time 173.1s\n",
            "Step 2000, Loss 0.0767, Time 181.3s\n"
          ]
        }
      ]
    },
    {
      "cell_type": "markdown",
      "source": [
        "Testing Phase:"
      ],
      "metadata": {
        "id": "T7PiLie1QQO5"
      }
    },
    {
      "cell_type": "code",
      "source": [
        "# Environment is reset after training\n",
        "env = dataset.env\n",
        "env.reset(no_step=True)\n",
        "\n",
        "# Performance is tracked\n",
        "perf = 0\n",
        "# Dictionaries to store activity and information for each trial are created\n",
        "activity_dict = {}\n",
        "trial_infos = {}\n",
        "\n",
        "# number of trials is set to 200\n",
        "num_trial = 200\n",
        "\n",
        "# For loop is created to run the model for 200 trials\n",
        "for i in range(num_trial):\n",
        "  # Starts a trial\n",
        "  trial_info = env.new_trial()\n",
        "  # defines the observations and ground truths for each trial\n",
        "  ob, gt = env.ob, env.gt\n",
        "  # Converts observations to batch dimensions\n",
        "  inputs = torch.from_numpy(ob[:,np.newaxis, :]).type(torch.float)\n",
        "\n",
        "  # Takes the predictions from the model\n",
        "  action_pred, rnn_activity = net(inputs)\n",
        "\n",
        "  # Converts the predictions to a numpy array and selects the action predicted\n",
        "  # by the model (the largest value)\n",
        "  action_pred = action_pred.detach().numpy()[:, 0, :]\n",
        "  choice = np.argmax(action_pred[-1, :])\n",
        "  correct = choice == gt[-1]\n",
        "\n",
        "  # Stores the activity and trial info in dictionaries\n",
        "  rnn_activity = rnn_activity[:, 0, :].detach().numpy()\n",
        "  activity_dict[i] = rnn_activity\n",
        "  trial_infos[i] = trial_info\n",
        "  trial_infos[i].update({'choice': choice, 'correct': correct})\n",
        "\n",
        "  # Tracks the performance\n",
        "  if correct:\n",
        "    perf += 1\n",
        "\n",
        "for i in range(20):\n",
        "  print('Trial', i + 1, trial_infos[i])\n",
        "\n",
        "print(f\"Average performance = {np.mean([val['correct'] for val in trial_infos.values()])}\")\n",
        "print(f\"Performance: {perf}/{num_trial}\")\n"
      ],
      "metadata": {
        "colab": {
          "base_uri": "https://localhost:8080/"
        },
        "id": "0CkMZebhNLMn",
        "outputId": "8125acee-7cbd-43b9-815c-7e330e5278ca"
      },
      "execution_count": 8,
      "outputs": [
        {
          "output_type": "stream",
          "name": "stdout",
          "text": [
            "Trial 1 {'ground_truth': 2, 'sample': 5.796471146458783, 'test1': 5.906022335147828, 'test2': 5.796471146458783, 'test3': 5.2830126818977385, 'choice': 0, 'correct': True}\n",
            "Trial 2 {'ground_truth': 1, 'sample': 3.5117442069440954, 'test1': 3.5117442069440954, 'test2': 3.5908048830327446, 'test3': 4.867526394283602, 'choice': 0, 'correct': True}\n",
            "Trial 3 {'ground_truth': 1, 'sample': 1.0357919366694783, 'test1': 1.0357919366694783, 'test2': 4.698745553297839, 'test3': 3.0189289416080136, 'choice': 0, 'correct': True}\n",
            "Trial 4 {'ground_truth': 1, 'sample': 1.0687200466978581, 'test1': 1.0687200466978581, 'test2': 2.985433539023809, 'test3': 5.913897991269347, 'choice': 0, 'correct': True}\n",
            "Trial 5 {'ground_truth': 2, 'sample': 0.6304428240670001, 'test1': 4.10624845049934, 'test2': 0.6304428240670001, 'test3': 0.33644711123934584, 'choice': 0, 'correct': True}\n",
            "Trial 6 {'ground_truth': 2, 'sample': 3.0528529686108694, 'test1': 3.620363675254263, 'test2': 3.0528529686108694, 'test3': 0.921384073574241, 'choice': 0, 'correct': True}\n",
            "Trial 7 {'ground_truth': 3, 'sample': 3.6668890384299497, 'test1': 5.38521387420624, 'test2': 4.701613125987115, 'test3': 3.6668890384299497, 'choice': 0, 'correct': False}\n",
            "Trial 8 {'ground_truth': 2, 'sample': 1.7770137280403129, 'test1': 5.442103425587083, 'test2': 1.7770137280403129, 'test3': 2.5067568747822424, 'choice': 1, 'correct': False}\n",
            "Trial 9 {'ground_truth': 2, 'sample': 6.133207760568374, 'test1': 1.8414613133962308, 'test2': 6.133207760568374, 'test3': 2.5052181092357793, 'choice': 0, 'correct': True}\n",
            "Trial 10 {'ground_truth': 1, 'sample': 4.025254914277397, 'test1': 4.025254914277397, 'test2': 0.45698637326327146, 'test3': 5.261036000053559, 'choice': 0, 'correct': True}\n",
            "Trial 11 {'ground_truth': 3, 'sample': 2.9671015598144983, 'test1': 6.125256935681688, 'test2': 1.4307710659006896, 'test3': 2.9671015598144983, 'choice': 0, 'correct': False}\n",
            "Trial 12 {'ground_truth': 1, 'sample': 0.5510382387451527, 'test1': 0.5510382387451527, 'test2': 5.396412323104166, 'test3': 4.199747922041119, 'choice': 0, 'correct': True}\n",
            "Trial 13 {'ground_truth': 3, 'sample': 1.0939997242943302, 'test1': 1.2634384591960655, 'test2': 3.6302584696044837, 'test3': 1.0939997242943302, 'choice': 0, 'correct': False}\n",
            "Trial 14 {'ground_truth': 2, 'sample': 4.708682351811494, 'test1': 0.40919897429291063, 'test2': 4.708682351811494, 'test3': 0.6560770797438803, 'choice': 0, 'correct': True}\n",
            "Trial 15 {'ground_truth': 2, 'sample': 4.538734509748379, 'test1': 6.003521147508599, 'test2': 4.538734509748379, 'test3': 2.750050176457295, 'choice': 0, 'correct': True}\n",
            "Trial 16 {'ground_truth': 1, 'sample': 3.2086645815015054, 'test1': 3.2086645815015054, 'test2': 3.3302406904633566, 'test3': 4.074531439477514, 'choice': 0, 'correct': True}\n",
            "Trial 17 {'ground_truth': 1, 'sample': 0.9230536098145473, 'test1': 0.9230536098145473, 'test2': 2.69702140878149, 'test3': 2.73614658518178, 'choice': 1, 'correct': False}\n",
            "Trial 18 {'ground_truth': 1, 'sample': 4.9142307469217705, 'test1': 4.9142307469217705, 'test2': 5.246412959131471, 'test3': 4.810233764637529, 'choice': 0, 'correct': True}\n",
            "Trial 19 {'ground_truth': 3, 'sample': 0.4966617804641513, 'test1': 5.296332586546156, 'test2': 4.598599052551535, 'test3': 0.4966617804641513, 'choice': 0, 'correct': False}\n",
            "Trial 20 {'ground_truth': 2, 'sample': 4.347271632175615, 'test1': 2.616794260291962, 'test2': 4.347271632175615, 'test3': 2.446385790585143, 'choice': 0, 'correct': True}\n",
            "Average performance = 0.66\n",
            "Performance: 132/200\n"
          ]
        }
      ]
    }
  ]
}